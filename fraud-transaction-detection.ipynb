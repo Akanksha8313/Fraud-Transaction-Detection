{
 "cells": [
  {
   "cell_type": "code",
   "execution_count": 1,
   "id": "ad0d1c26",
   "metadata": {
    "_cell_guid": "b1076dfc-b9ad-4769-8c92-a6c4dae69d19",
    "_uuid": "8f2839f25d086af736a60e9eeb907d3b93b6e0e5",
    "execution": {
     "iopub.execute_input": "2023-05-06T17:39:18.415103Z",
     "iopub.status.busy": "2023-05-06T17:39:18.414394Z",
     "iopub.status.idle": "2023-05-06T17:39:18.435276Z",
     "shell.execute_reply": "2023-05-06T17:39:18.433866Z"
    },
    "papermill": {
     "duration": 0.031719,
     "end_time": "2023-05-06T17:39:18.437417",
     "exception": false,
     "start_time": "2023-05-06T17:39:18.405698",
     "status": "completed"
    },
    "tags": []
   },
   "outputs": [
    {
     "name": "stdout",
     "output_type": "stream",
     "text": [
      "/kaggle/input/paysim1/PS_20174392719_1491204439457_log.csv\n"
     ]
    }
   ],
   "source": [
    "# This Python 3 environment comes with many helpful analytics libraries installed\n",
    "# It is defined by the kaggle/python Docker image: https://github.com/kaggle/docker-python\n",
    "# For example, here's several helpful packages to load\n",
    "\n",
    "import numpy as np # linear algebra\n",
    "import pandas as pd # data processing, CSV file I/O (e.g. pd.read_csv)\n",
    "\n",
    "# Input data files are available in the read-only \"../input/\" directory\n",
    "# For example, running this (by clicking run or pressing Shift+Enter) will list all files under the input directory\n",
    "\n",
    "import os\n",
    "for dirname, _, filenames in os.walk('/kaggle/input'):\n",
    "    for filename in filenames:\n",
    "        print(os.path.join(dirname, filename))\n",
    "\n",
    "# You can write up to 20GB to the current directory (/kaggle/working/) that gets preserved as output when you create a version using \"Save & Run All\" \n",
    "# You can also write temporary files to /kaggle/temp/, but they won't be saved outside of the current session"
   ]
  },
  {
   "cell_type": "markdown",
   "id": "a85fb5b7",
   "metadata": {
    "papermill": {
     "duration": 0.006561,
     "end_time": "2023-05-06T17:39:18.451002",
     "exception": false,
     "start_time": "2023-05-06T17:39:18.444441",
     "status": "completed"
    },
    "tags": []
   },
   "source": [
    "# Index\n",
    "* Reading csv file\n",
    "* data analysis\n",
    "* data simplify\n",
    "* importing libraries\n",
    "* Train Test Split\n",
    "* Scaling\n",
    "* Logistic Regression\n",
    "* Decision Tree Classifier\n",
    "* Accuracy Score:99.97%"
   ]
  },
  {
   "cell_type": "markdown",
   "id": "e6c5d50f",
   "metadata": {
    "papermill": {
     "duration": 0.006452,
     "end_time": "2023-05-06T17:39:18.464419",
     "exception": false,
     "start_time": "2023-05-06T17:39:18.457967",
     "status": "completed"
    },
    "tags": []
   },
   "source": [
    "# Reading csv file"
   ]
  },
  {
   "cell_type": "code",
   "execution_count": 2,
   "id": "8747adc3",
   "metadata": {
    "execution": {
     "iopub.execute_input": "2023-05-06T17:39:18.479340Z",
     "iopub.status.busy": "2023-05-06T17:39:18.478940Z",
     "iopub.status.idle": "2023-05-06T17:39:37.533235Z",
     "shell.execute_reply": "2023-05-06T17:39:37.532307Z"
    },
    "papermill": {
     "duration": 19.064333,
     "end_time": "2023-05-06T17:39:37.535498",
     "exception": false,
     "start_time": "2023-05-06T17:39:18.471165",
     "status": "completed"
    },
    "tags": []
   },
   "outputs": [],
   "source": [
    "df=pd.read_csv(\"/kaggle/input/paysim1/PS_20174392719_1491204439457_log.csv\")"
   ]
  },
  {
   "cell_type": "code",
   "execution_count": 3,
   "id": "13d1806f",
   "metadata": {
    "execution": {
     "iopub.execute_input": "2023-05-06T17:39:37.551424Z",
     "iopub.status.busy": "2023-05-06T17:39:37.550779Z",
     "iopub.status.idle": "2023-05-06T17:39:37.574899Z",
     "shell.execute_reply": "2023-05-06T17:39:37.574003Z"
    },
    "papermill": {
     "duration": 0.034356,
     "end_time": "2023-05-06T17:39:37.577082",
     "exception": false,
     "start_time": "2023-05-06T17:39:37.542726",
     "status": "completed"
    },
    "tags": []
   },
   "outputs": [
    {
     "data": {
      "text/html": [
       "<div>\n",
       "<style scoped>\n",
       "    .dataframe tbody tr th:only-of-type {\n",
       "        vertical-align: middle;\n",
       "    }\n",
       "\n",
       "    .dataframe tbody tr th {\n",
       "        vertical-align: top;\n",
       "    }\n",
       "\n",
       "    .dataframe thead th {\n",
       "        text-align: right;\n",
       "    }\n",
       "</style>\n",
       "<table border=\"1\" class=\"dataframe\">\n",
       "  <thead>\n",
       "    <tr style=\"text-align: right;\">\n",
       "      <th></th>\n",
       "      <th>step</th>\n",
       "      <th>type</th>\n",
       "      <th>amount</th>\n",
       "      <th>nameOrig</th>\n",
       "      <th>oldbalanceOrg</th>\n",
       "      <th>newbalanceOrig</th>\n",
       "      <th>nameDest</th>\n",
       "      <th>oldbalanceDest</th>\n",
       "      <th>newbalanceDest</th>\n",
       "      <th>isFraud</th>\n",
       "      <th>isFlaggedFraud</th>\n",
       "    </tr>\n",
       "  </thead>\n",
       "  <tbody>\n",
       "    <tr>\n",
       "      <th>0</th>\n",
       "      <td>1</td>\n",
       "      <td>PAYMENT</td>\n",
       "      <td>9839.64</td>\n",
       "      <td>C1231006815</td>\n",
       "      <td>170136.0</td>\n",
       "      <td>160296.36</td>\n",
       "      <td>M1979787155</td>\n",
       "      <td>0.0</td>\n",
       "      <td>0.0</td>\n",
       "      <td>0</td>\n",
       "      <td>0</td>\n",
       "    </tr>\n",
       "    <tr>\n",
       "      <th>1</th>\n",
       "      <td>1</td>\n",
       "      <td>PAYMENT</td>\n",
       "      <td>1864.28</td>\n",
       "      <td>C1666544295</td>\n",
       "      <td>21249.0</td>\n",
       "      <td>19384.72</td>\n",
       "      <td>M2044282225</td>\n",
       "      <td>0.0</td>\n",
       "      <td>0.0</td>\n",
       "      <td>0</td>\n",
       "      <td>0</td>\n",
       "    </tr>\n",
       "    <tr>\n",
       "      <th>2</th>\n",
       "      <td>1</td>\n",
       "      <td>TRANSFER</td>\n",
       "      <td>181.00</td>\n",
       "      <td>C1305486145</td>\n",
       "      <td>181.0</td>\n",
       "      <td>0.00</td>\n",
       "      <td>C553264065</td>\n",
       "      <td>0.0</td>\n",
       "      <td>0.0</td>\n",
       "      <td>1</td>\n",
       "      <td>0</td>\n",
       "    </tr>\n",
       "    <tr>\n",
       "      <th>3</th>\n",
       "      <td>1</td>\n",
       "      <td>CASH_OUT</td>\n",
       "      <td>181.00</td>\n",
       "      <td>C840083671</td>\n",
       "      <td>181.0</td>\n",
       "      <td>0.00</td>\n",
       "      <td>C38997010</td>\n",
       "      <td>21182.0</td>\n",
       "      <td>0.0</td>\n",
       "      <td>1</td>\n",
       "      <td>0</td>\n",
       "    </tr>\n",
       "    <tr>\n",
       "      <th>4</th>\n",
       "      <td>1</td>\n",
       "      <td>PAYMENT</td>\n",
       "      <td>11668.14</td>\n",
       "      <td>C2048537720</td>\n",
       "      <td>41554.0</td>\n",
       "      <td>29885.86</td>\n",
       "      <td>M1230701703</td>\n",
       "      <td>0.0</td>\n",
       "      <td>0.0</td>\n",
       "      <td>0</td>\n",
       "      <td>0</td>\n",
       "    </tr>\n",
       "  </tbody>\n",
       "</table>\n",
       "</div>"
      ],
      "text/plain": [
       "   step      type    amount     nameOrig  oldbalanceOrg  newbalanceOrig  \\\n",
       "0     1   PAYMENT   9839.64  C1231006815       170136.0       160296.36   \n",
       "1     1   PAYMENT   1864.28  C1666544295        21249.0        19384.72   \n",
       "2     1  TRANSFER    181.00  C1305486145          181.0            0.00   \n",
       "3     1  CASH_OUT    181.00   C840083671          181.0            0.00   \n",
       "4     1   PAYMENT  11668.14  C2048537720        41554.0        29885.86   \n",
       "\n",
       "      nameDest  oldbalanceDest  newbalanceDest  isFraud  isFlaggedFraud  \n",
       "0  M1979787155             0.0             0.0        0               0  \n",
       "1  M2044282225             0.0             0.0        0               0  \n",
       "2   C553264065             0.0             0.0        1               0  \n",
       "3    C38997010         21182.0             0.0        1               0  \n",
       "4  M1230701703             0.0             0.0        0               0  "
      ]
     },
     "execution_count": 3,
     "metadata": {},
     "output_type": "execute_result"
    }
   ],
   "source": [
    "df.head()"
   ]
  },
  {
   "cell_type": "code",
   "execution_count": 4,
   "id": "5cf54ca6",
   "metadata": {
    "execution": {
     "iopub.execute_input": "2023-05-06T17:39:37.593526Z",
     "iopub.status.busy": "2023-05-06T17:39:37.593272Z",
     "iopub.status.idle": "2023-05-06T17:39:37.599832Z",
     "shell.execute_reply": "2023-05-06T17:39:37.599011Z"
    },
    "papermill": {
     "duration": 0.016945,
     "end_time": "2023-05-06T17:39:37.601705",
     "exception": false,
     "start_time": "2023-05-06T17:39:37.584760",
     "status": "completed"
    },
    "tags": []
   },
   "outputs": [
    {
     "data": {
      "text/plain": [
       "(6362620, 11)"
      ]
     },
     "execution_count": 4,
     "metadata": {},
     "output_type": "execute_result"
    }
   ],
   "source": [
    "df.shape"
   ]
  },
  {
   "cell_type": "markdown",
   "id": "4dced3c4",
   "metadata": {
    "papermill": {
     "duration": 0.006575,
     "end_time": "2023-05-06T17:39:37.615274",
     "exception": false,
     "start_time": "2023-05-06T17:39:37.608699",
     "status": "completed"
    },
    "tags": []
   },
   "source": [
    "# data analysis"
   ]
  },
  {
   "cell_type": "code",
   "execution_count": 5,
   "id": "d94c8cb5",
   "metadata": {
    "execution": {
     "iopub.execute_input": "2023-05-06T17:39:37.630395Z",
     "iopub.status.busy": "2023-05-06T17:39:37.630146Z",
     "iopub.status.idle": "2023-05-06T17:39:37.653502Z",
     "shell.execute_reply": "2023-05-06T17:39:37.652011Z"
    },
    "papermill": {
     "duration": 0.033073,
     "end_time": "2023-05-06T17:39:37.655350",
     "exception": false,
     "start_time": "2023-05-06T17:39:37.622277",
     "status": "completed"
    },
    "tags": []
   },
   "outputs": [
    {
     "name": "stdout",
     "output_type": "stream",
     "text": [
      "<class 'pandas.core.frame.DataFrame'>\n",
      "RangeIndex: 6362620 entries, 0 to 6362619\n",
      "Data columns (total 11 columns):\n",
      " #   Column          Dtype  \n",
      "---  ------          -----  \n",
      " 0   step            int64  \n",
      " 1   type            object \n",
      " 2   amount          float64\n",
      " 3   nameOrig        object \n",
      " 4   oldbalanceOrg   float64\n",
      " 5   newbalanceOrig  float64\n",
      " 6   nameDest        object \n",
      " 7   oldbalanceDest  float64\n",
      " 8   newbalanceDest  float64\n",
      " 9   isFraud         int64  \n",
      " 10  isFlaggedFraud  int64  \n",
      "dtypes: float64(5), int64(3), object(3)\n",
      "memory usage: 534.0+ MB\n"
     ]
    }
   ],
   "source": [
    "df.info()"
   ]
  },
  {
   "cell_type": "code",
   "execution_count": 6,
   "id": "80192637",
   "metadata": {
    "execution": {
     "iopub.execute_input": "2023-05-06T17:39:37.671456Z",
     "iopub.status.busy": "2023-05-06T17:39:37.670656Z",
     "iopub.status.idle": "2023-05-06T17:39:40.177165Z",
     "shell.execute_reply": "2023-05-06T17:39:40.176214Z"
    },
    "papermill": {
     "duration": 2.516606,
     "end_time": "2023-05-06T17:39:40.179329",
     "exception": false,
     "start_time": "2023-05-06T17:39:37.662723",
     "status": "completed"
    },
    "tags": []
   },
   "outputs": [
    {
     "data": {
      "text/plain": [
       "step              0\n",
       "type              0\n",
       "amount            0\n",
       "nameOrig          0\n",
       "oldbalanceOrg     0\n",
       "newbalanceOrig    0\n",
       "nameDest          0\n",
       "oldbalanceDest    0\n",
       "newbalanceDest    0\n",
       "isFraud           0\n",
       "isFlaggedFraud    0\n",
       "dtype: int64"
      ]
     },
     "execution_count": 6,
     "metadata": {},
     "output_type": "execute_result"
    }
   ],
   "source": [
    "df.isnull().sum()"
   ]
  },
  {
   "cell_type": "code",
   "execution_count": 7,
   "id": "6853b4b9",
   "metadata": {
    "execution": {
     "iopub.execute_input": "2023-05-06T17:39:40.195534Z",
     "iopub.status.busy": "2023-05-06T17:39:40.194910Z",
     "iopub.status.idle": "2023-05-06T17:39:40.248861Z",
     "shell.execute_reply": "2023-05-06T17:39:40.248001Z"
    },
    "papermill": {
     "duration": 0.063838,
     "end_time": "2023-05-06T17:39:40.250666",
     "exception": false,
     "start_time": "2023-05-06T17:39:40.186828",
     "status": "completed"
    },
    "tags": []
   },
   "outputs": [
    {
     "data": {
      "text/plain": [
       "0    6362604\n",
       "1         16\n",
       "Name: isFlaggedFraud, dtype: int64"
      ]
     },
     "execution_count": 7,
     "metadata": {},
     "output_type": "execute_result"
    }
   ],
   "source": [
    "df['isFlaggedFraud'].value_counts()"
   ]
  },
  {
   "cell_type": "code",
   "execution_count": 8,
   "id": "3c0de746",
   "metadata": {
    "execution": {
     "iopub.execute_input": "2023-05-06T17:39:40.267343Z",
     "iopub.status.busy": "2023-05-06T17:39:40.267018Z",
     "iopub.status.idle": "2023-05-06T17:39:40.320117Z",
     "shell.execute_reply": "2023-05-06T17:39:40.319164Z"
    },
    "papermill": {
     "duration": 0.063873,
     "end_time": "2023-05-06T17:39:40.322395",
     "exception": false,
     "start_time": "2023-05-06T17:39:40.258522",
     "status": "completed"
    },
    "tags": []
   },
   "outputs": [
    {
     "data": {
      "text/plain": [
       "0    6354407\n",
       "1       8213\n",
       "Name: isFraud, dtype: int64"
      ]
     },
     "execution_count": 8,
     "metadata": {},
     "output_type": "execute_result"
    }
   ],
   "source": [
    "df['isFraud'].value_counts()"
   ]
  },
  {
   "cell_type": "code",
   "execution_count": 9,
   "id": "cb6fc78e",
   "metadata": {
    "execution": {
     "iopub.execute_input": "2023-05-06T17:39:40.338521Z",
     "iopub.status.busy": "2023-05-06T17:39:40.338274Z",
     "iopub.status.idle": "2023-05-06T17:39:40.515773Z",
     "shell.execute_reply": "2023-05-06T17:39:40.514697Z"
    },
    "papermill": {
     "duration": 0.188537,
     "end_time": "2023-05-06T17:39:40.518484",
     "exception": false,
     "start_time": "2023-05-06T17:39:40.329947",
     "status": "completed"
    },
    "tags": []
   },
   "outputs": [],
   "source": [
    "df=df.drop(columns=['nameOrig','nameDest','isFlaggedFraud'])"
   ]
  },
  {
   "cell_type": "code",
   "execution_count": 10,
   "id": "5fabb4c7",
   "metadata": {
    "execution": {
     "iopub.execute_input": "2023-05-06T17:39:40.535590Z",
     "iopub.status.busy": "2023-05-06T17:39:40.535307Z",
     "iopub.status.idle": "2023-05-06T17:39:40.551540Z",
     "shell.execute_reply": "2023-05-06T17:39:40.550596Z"
    },
    "papermill": {
     "duration": 0.026855,
     "end_time": "2023-05-06T17:39:40.553625",
     "exception": false,
     "start_time": "2023-05-06T17:39:40.526770",
     "status": "completed"
    },
    "tags": []
   },
   "outputs": [
    {
     "data": {
      "text/html": [
       "<div>\n",
       "<style scoped>\n",
       "    .dataframe tbody tr th:only-of-type {\n",
       "        vertical-align: middle;\n",
       "    }\n",
       "\n",
       "    .dataframe tbody tr th {\n",
       "        vertical-align: top;\n",
       "    }\n",
       "\n",
       "    .dataframe thead th {\n",
       "        text-align: right;\n",
       "    }\n",
       "</style>\n",
       "<table border=\"1\" class=\"dataframe\">\n",
       "  <thead>\n",
       "    <tr style=\"text-align: right;\">\n",
       "      <th></th>\n",
       "      <th>step</th>\n",
       "      <th>type</th>\n",
       "      <th>amount</th>\n",
       "      <th>oldbalanceOrg</th>\n",
       "      <th>newbalanceOrig</th>\n",
       "      <th>oldbalanceDest</th>\n",
       "      <th>newbalanceDest</th>\n",
       "      <th>isFraud</th>\n",
       "    </tr>\n",
       "  </thead>\n",
       "  <tbody>\n",
       "    <tr>\n",
       "      <th>0</th>\n",
       "      <td>1</td>\n",
       "      <td>PAYMENT</td>\n",
       "      <td>9839.64</td>\n",
       "      <td>170136.0</td>\n",
       "      <td>160296.36</td>\n",
       "      <td>0.0</td>\n",
       "      <td>0.0</td>\n",
       "      <td>0</td>\n",
       "    </tr>\n",
       "    <tr>\n",
       "      <th>1</th>\n",
       "      <td>1</td>\n",
       "      <td>PAYMENT</td>\n",
       "      <td>1864.28</td>\n",
       "      <td>21249.0</td>\n",
       "      <td>19384.72</td>\n",
       "      <td>0.0</td>\n",
       "      <td>0.0</td>\n",
       "      <td>0</td>\n",
       "    </tr>\n",
       "    <tr>\n",
       "      <th>2</th>\n",
       "      <td>1</td>\n",
       "      <td>TRANSFER</td>\n",
       "      <td>181.00</td>\n",
       "      <td>181.0</td>\n",
       "      <td>0.00</td>\n",
       "      <td>0.0</td>\n",
       "      <td>0.0</td>\n",
       "      <td>1</td>\n",
       "    </tr>\n",
       "    <tr>\n",
       "      <th>3</th>\n",
       "      <td>1</td>\n",
       "      <td>CASH_OUT</td>\n",
       "      <td>181.00</td>\n",
       "      <td>181.0</td>\n",
       "      <td>0.00</td>\n",
       "      <td>21182.0</td>\n",
       "      <td>0.0</td>\n",
       "      <td>1</td>\n",
       "    </tr>\n",
       "    <tr>\n",
       "      <th>4</th>\n",
       "      <td>1</td>\n",
       "      <td>PAYMENT</td>\n",
       "      <td>11668.14</td>\n",
       "      <td>41554.0</td>\n",
       "      <td>29885.86</td>\n",
       "      <td>0.0</td>\n",
       "      <td>0.0</td>\n",
       "      <td>0</td>\n",
       "    </tr>\n",
       "  </tbody>\n",
       "</table>\n",
       "</div>"
      ],
      "text/plain": [
       "   step      type    amount  oldbalanceOrg  newbalanceOrig  oldbalanceDest  \\\n",
       "0     1   PAYMENT   9839.64       170136.0       160296.36             0.0   \n",
       "1     1   PAYMENT   1864.28        21249.0        19384.72             0.0   \n",
       "2     1  TRANSFER    181.00          181.0            0.00             0.0   \n",
       "3     1  CASH_OUT    181.00          181.0            0.00         21182.0   \n",
       "4     1   PAYMENT  11668.14        41554.0        29885.86             0.0   \n",
       "\n",
       "   newbalanceDest  isFraud  \n",
       "0             0.0        0  \n",
       "1             0.0        0  \n",
       "2             0.0        1  \n",
       "3             0.0        1  \n",
       "4             0.0        0  "
      ]
     },
     "execution_count": 10,
     "metadata": {},
     "output_type": "execute_result"
    }
   ],
   "source": [
    "df.head()"
   ]
  },
  {
   "cell_type": "code",
   "execution_count": 11,
   "id": "01641d82",
   "metadata": {
    "execution": {
     "iopub.execute_input": "2023-05-06T17:39:40.571787Z",
     "iopub.status.busy": "2023-05-06T17:39:40.570996Z",
     "iopub.status.idle": "2023-05-06T17:39:40.917749Z",
     "shell.execute_reply": "2023-05-06T17:39:40.916728Z"
    },
    "papermill": {
     "duration": 0.35782,
     "end_time": "2023-05-06T17:39:40.919790",
     "exception": false,
     "start_time": "2023-05-06T17:39:40.561970",
     "status": "completed"
    },
    "tags": []
   },
   "outputs": [
    {
     "data": {
      "text/plain": [
       "CASH_OUT    2237500\n",
       "PAYMENT     2151495\n",
       "CASH_IN     1399284\n",
       "TRANSFER     532909\n",
       "DEBIT         41432\n",
       "Name: type, dtype: int64"
      ]
     },
     "execution_count": 11,
     "metadata": {},
     "output_type": "execute_result"
    }
   ],
   "source": [
    "df['type'].value_counts()"
   ]
  },
  {
   "cell_type": "markdown",
   "id": "f590d9fe",
   "metadata": {
    "papermill": {
     "duration": 0.007323,
     "end_time": "2023-05-06T17:39:40.934941",
     "exception": false,
     "start_time": "2023-05-06T17:39:40.927618",
     "status": "completed"
    },
    "tags": []
   },
   "source": [
    "# data simplify"
   ]
  },
  {
   "cell_type": "code",
   "execution_count": 12,
   "id": "ab1f3541",
   "metadata": {
    "execution": {
     "iopub.execute_input": "2023-05-06T17:39:40.951889Z",
     "iopub.status.busy": "2023-05-06T17:39:40.951601Z",
     "iopub.status.idle": "2023-05-06T17:39:41.595546Z",
     "shell.execute_reply": "2023-05-06T17:39:41.594620Z"
    },
    "papermill": {
     "duration": 0.654851,
     "end_time": "2023-05-06T17:39:41.597746",
     "exception": false,
     "start_time": "2023-05-06T17:39:40.942895",
     "status": "completed"
    },
    "tags": []
   },
   "outputs": [],
   "source": [
    "df1=pd.get_dummies(df['type'])"
   ]
  },
  {
   "cell_type": "code",
   "execution_count": 13,
   "id": "715ffdc4",
   "metadata": {
    "execution": {
     "iopub.execute_input": "2023-05-06T17:39:41.614542Z",
     "iopub.status.busy": "2023-05-06T17:39:41.614264Z",
     "iopub.status.idle": "2023-05-06T17:39:45.348314Z",
     "shell.execute_reply": "2023-05-06T17:39:45.347219Z"
    },
    "papermill": {
     "duration": 3.745001,
     "end_time": "2023-05-06T17:39:45.350686",
     "exception": false,
     "start_time": "2023-05-06T17:39:41.605685",
     "status": "completed"
    },
    "tags": []
   },
   "outputs": [],
   "source": [
    "df2=np.concatenate([df,df1],axis=1)"
   ]
  },
  {
   "cell_type": "code",
   "execution_count": 14,
   "id": "660837d5",
   "metadata": {
    "execution": {
     "iopub.execute_input": "2023-05-06T17:39:45.368069Z",
     "iopub.status.busy": "2023-05-06T17:39:45.367172Z",
     "iopub.status.idle": "2023-05-06T17:39:45.371830Z",
     "shell.execute_reply": "2023-05-06T17:39:45.370963Z"
    },
    "papermill": {
     "duration": 0.014954,
     "end_time": "2023-05-06T17:39:45.373618",
     "exception": false,
     "start_time": "2023-05-06T17:39:45.358664",
     "status": "completed"
    },
    "tags": []
   },
   "outputs": [],
   "source": [
    "df2=pd.DataFrame(df2)"
   ]
  },
  {
   "cell_type": "code",
   "execution_count": 15,
   "id": "1ebe76fa",
   "metadata": {
    "execution": {
     "iopub.execute_input": "2023-05-06T17:39:45.390568Z",
     "iopub.status.busy": "2023-05-06T17:39:45.389850Z",
     "iopub.status.idle": "2023-05-06T17:39:45.394501Z",
     "shell.execute_reply": "2023-05-06T17:39:45.393568Z"
    },
    "papermill": {
     "duration": 0.015047,
     "end_time": "2023-05-06T17:39:45.396505",
     "exception": false,
     "start_time": "2023-05-06T17:39:45.381458",
     "status": "completed"
    },
    "tags": []
   },
   "outputs": [],
   "source": [
    "df2.columns=['step','type','amount','oldbalanceOrg','newbalanceOrig','oldbalanceDest','newbalanceDest','isFraud','CASH_IN','CASH_OUT','DEBIT','PAYMENT','TRANSFER']"
   ]
  },
  {
   "cell_type": "code",
   "execution_count": 16,
   "id": "c86951fb",
   "metadata": {
    "execution": {
     "iopub.execute_input": "2023-05-06T17:39:45.412671Z",
     "iopub.status.busy": "2023-05-06T17:39:45.412404Z",
     "iopub.status.idle": "2023-05-06T17:39:46.501002Z",
     "shell.execute_reply": "2023-05-06T17:39:46.500076Z"
    },
    "papermill": {
     "duration": 1.099176,
     "end_time": "2023-05-06T17:39:46.503249",
     "exception": false,
     "start_time": "2023-05-06T17:39:45.404073",
     "status": "completed"
    },
    "tags": []
   },
   "outputs": [],
   "source": [
    "df2=df2.drop(columns=['type'])"
   ]
  },
  {
   "cell_type": "code",
   "execution_count": 17,
   "id": "a3e6fbb8",
   "metadata": {
    "execution": {
     "iopub.execute_input": "2023-05-06T17:39:46.520883Z",
     "iopub.status.busy": "2023-05-06T17:39:46.520004Z",
     "iopub.status.idle": "2023-05-06T17:39:46.533269Z",
     "shell.execute_reply": "2023-05-06T17:39:46.532390Z"
    },
    "papermill": {
     "duration": 0.023951,
     "end_time": "2023-05-06T17:39:46.535137",
     "exception": false,
     "start_time": "2023-05-06T17:39:46.511186",
     "status": "completed"
    },
    "tags": []
   },
   "outputs": [
    {
     "data": {
      "text/html": [
       "<div>\n",
       "<style scoped>\n",
       "    .dataframe tbody tr th:only-of-type {\n",
       "        vertical-align: middle;\n",
       "    }\n",
       "\n",
       "    .dataframe tbody tr th {\n",
       "        vertical-align: top;\n",
       "    }\n",
       "\n",
       "    .dataframe thead th {\n",
       "        text-align: right;\n",
       "    }\n",
       "</style>\n",
       "<table border=\"1\" class=\"dataframe\">\n",
       "  <thead>\n",
       "    <tr style=\"text-align: right;\">\n",
       "      <th></th>\n",
       "      <th>step</th>\n",
       "      <th>amount</th>\n",
       "      <th>oldbalanceOrg</th>\n",
       "      <th>newbalanceOrig</th>\n",
       "      <th>oldbalanceDest</th>\n",
       "      <th>newbalanceDest</th>\n",
       "      <th>isFraud</th>\n",
       "      <th>CASH_IN</th>\n",
       "      <th>CASH_OUT</th>\n",
       "      <th>DEBIT</th>\n",
       "      <th>PAYMENT</th>\n",
       "      <th>TRANSFER</th>\n",
       "    </tr>\n",
       "  </thead>\n",
       "  <tbody>\n",
       "    <tr>\n",
       "      <th>0</th>\n",
       "      <td>1</td>\n",
       "      <td>9839.64</td>\n",
       "      <td>170136.0</td>\n",
       "      <td>160296.36</td>\n",
       "      <td>0.0</td>\n",
       "      <td>0.0</td>\n",
       "      <td>0</td>\n",
       "      <td>0</td>\n",
       "      <td>0</td>\n",
       "      <td>0</td>\n",
       "      <td>1</td>\n",
       "      <td>0</td>\n",
       "    </tr>\n",
       "    <tr>\n",
       "      <th>1</th>\n",
       "      <td>1</td>\n",
       "      <td>1864.28</td>\n",
       "      <td>21249.0</td>\n",
       "      <td>19384.72</td>\n",
       "      <td>0.0</td>\n",
       "      <td>0.0</td>\n",
       "      <td>0</td>\n",
       "      <td>0</td>\n",
       "      <td>0</td>\n",
       "      <td>0</td>\n",
       "      <td>1</td>\n",
       "      <td>0</td>\n",
       "    </tr>\n",
       "    <tr>\n",
       "      <th>2</th>\n",
       "      <td>1</td>\n",
       "      <td>181.0</td>\n",
       "      <td>181.0</td>\n",
       "      <td>0.0</td>\n",
       "      <td>0.0</td>\n",
       "      <td>0.0</td>\n",
       "      <td>1</td>\n",
       "      <td>0</td>\n",
       "      <td>0</td>\n",
       "      <td>0</td>\n",
       "      <td>0</td>\n",
       "      <td>1</td>\n",
       "    </tr>\n",
       "  </tbody>\n",
       "</table>\n",
       "</div>"
      ],
      "text/plain": [
       "  step   amount oldbalanceOrg newbalanceOrig oldbalanceDest newbalanceDest  \\\n",
       "0    1  9839.64      170136.0      160296.36            0.0            0.0   \n",
       "1    1  1864.28       21249.0       19384.72            0.0            0.0   \n",
       "2    1    181.0         181.0            0.0            0.0            0.0   \n",
       "\n",
       "  isFraud CASH_IN CASH_OUT DEBIT PAYMENT TRANSFER  \n",
       "0       0       0        0     0       1        0  \n",
       "1       0       0        0     0       1        0  \n",
       "2       1       0        0     0       0        1  "
      ]
     },
     "execution_count": 17,
     "metadata": {},
     "output_type": "execute_result"
    }
   ],
   "source": [
    "df2.head(3)"
   ]
  },
  {
   "cell_type": "markdown",
   "id": "19f01e0c",
   "metadata": {
    "papermill": {
     "duration": 0.007671,
     "end_time": "2023-05-06T17:39:46.551141",
     "exception": false,
     "start_time": "2023-05-06T17:39:46.543470",
     "status": "completed"
    },
    "tags": []
   },
   "source": [
    "# importing libraries"
   ]
  },
  {
   "cell_type": "code",
   "execution_count": 18,
   "id": "6ad853c8",
   "metadata": {
    "execution": {
     "iopub.execute_input": "2023-05-06T17:39:46.568182Z",
     "iopub.status.busy": "2023-05-06T17:39:46.567244Z",
     "iopub.status.idle": "2023-05-06T17:39:47.969289Z",
     "shell.execute_reply": "2023-05-06T17:39:47.968347Z"
    },
    "papermill": {
     "duration": 1.412811,
     "end_time": "2023-05-06T17:39:47.971718",
     "exception": false,
     "start_time": "2023-05-06T17:39:46.558907",
     "status": "completed"
    },
    "tags": []
   },
   "outputs": [
    {
     "name": "stderr",
     "output_type": "stream",
     "text": [
      "/opt/conda/lib/python3.10/site-packages/scipy/__init__.py:146: UserWarning: A NumPy version >=1.16.5 and <1.23.0 is required for this version of SciPy (detected version 1.23.5\n",
      "  warnings.warn(f\"A NumPy version >={np_minversion} and <{np_maxversion}\"\n"
     ]
    }
   ],
   "source": [
    "from sklearn.preprocessing import StandardScaler\n",
    "from sklearn.tree import DecisionTreeClassifier\n",
    "from sklearn.model_selection import train_test_split\n",
    "from sklearn.linear_model import LogisticRegression\n",
    "from sklearn.ensemble import RandomForestClassifier\n",
    "from sklearn.metrics import classification_report,accuracy_score\n",
    "from sklearn.tree import plot_tree"
   ]
  },
  {
   "cell_type": "code",
   "execution_count": 19,
   "id": "226ff840",
   "metadata": {
    "execution": {
     "iopub.execute_input": "2023-05-06T17:39:47.990090Z",
     "iopub.status.busy": "2023-05-06T17:39:47.988709Z",
     "iopub.status.idle": "2023-05-06T17:39:48.725352Z",
     "shell.execute_reply": "2023-05-06T17:39:48.724369Z"
    },
    "papermill": {
     "duration": 0.748063,
     "end_time": "2023-05-06T17:39:48.727858",
     "exception": false,
     "start_time": "2023-05-06T17:39:47.979795",
     "status": "completed"
    },
    "tags": []
   },
   "outputs": [],
   "source": [
    "x=df2.drop(columns=['isFraud'],axis=1)"
   ]
  },
  {
   "cell_type": "code",
   "execution_count": 20,
   "id": "1ce26fd8",
   "metadata": {
    "execution": {
     "iopub.execute_input": "2023-05-06T17:39:48.745571Z",
     "iopub.status.busy": "2023-05-06T17:39:48.745289Z",
     "iopub.status.idle": "2023-05-06T17:39:48.749685Z",
     "shell.execute_reply": "2023-05-06T17:39:48.748696Z"
    },
    "papermill": {
     "duration": 0.015458,
     "end_time": "2023-05-06T17:39:48.751721",
     "exception": false,
     "start_time": "2023-05-06T17:39:48.736263",
     "status": "completed"
    },
    "tags": []
   },
   "outputs": [],
   "source": [
    "y=df2['isFraud']"
   ]
  },
  {
   "cell_type": "markdown",
   "id": "f0c3edbb",
   "metadata": {
    "papermill": {
     "duration": 0.007545,
     "end_time": "2023-05-06T17:39:48.767298",
     "exception": false,
     "start_time": "2023-05-06T17:39:48.759753",
     "status": "completed"
    },
    "tags": []
   },
   "source": [
    "# Train Test Split"
   ]
  },
  {
   "cell_type": "code",
   "execution_count": 21,
   "id": "d31b977e",
   "metadata": {
    "execution": {
     "iopub.execute_input": "2023-05-06T17:39:48.784351Z",
     "iopub.status.busy": "2023-05-06T17:39:48.783694Z",
     "iopub.status.idle": "2023-05-06T17:39:57.978782Z",
     "shell.execute_reply": "2023-05-06T17:39:57.977745Z"
    },
    "papermill": {
     "duration": 9.206386,
     "end_time": "2023-05-06T17:39:57.981520",
     "exception": false,
     "start_time": "2023-05-06T17:39:48.775134",
     "status": "completed"
    },
    "tags": []
   },
   "outputs": [],
   "source": [
    "x_train,x_test,y_train,y_test=train_test_split(x,y,test_size=0.2,random_state=42)"
   ]
  },
  {
   "cell_type": "markdown",
   "id": "d45ebd41",
   "metadata": {
    "papermill": {
     "duration": 0.007978,
     "end_time": "2023-05-06T17:39:57.998011",
     "exception": false,
     "start_time": "2023-05-06T17:39:57.990033",
     "status": "completed"
    },
    "tags": []
   },
   "source": [
    "# Scaling"
   ]
  },
  {
   "cell_type": "code",
   "execution_count": 22,
   "id": "5627be8a",
   "metadata": {
    "execution": {
     "iopub.execute_input": "2023-05-06T17:39:58.016959Z",
     "iopub.status.busy": "2023-05-06T17:39:58.015359Z",
     "iopub.status.idle": "2023-05-06T17:39:58.020380Z",
     "shell.execute_reply": "2023-05-06T17:39:58.019482Z"
    },
    "papermill": {
     "duration": 0.016207,
     "end_time": "2023-05-06T17:39:58.022316",
     "exception": false,
     "start_time": "2023-05-06T17:39:58.006109",
     "status": "completed"
    },
    "tags": []
   },
   "outputs": [],
   "source": [
    "ss=StandardScaler()"
   ]
  },
  {
   "cell_type": "code",
   "execution_count": 23,
   "id": "7708db13",
   "metadata": {
    "execution": {
     "iopub.execute_input": "2023-05-06T17:39:58.040411Z",
     "iopub.status.busy": "2023-05-06T17:39:58.039662Z",
     "iopub.status.idle": "2023-05-06T17:40:06.810682Z",
     "shell.execute_reply": "2023-05-06T17:40:06.809629Z"
    },
    "papermill": {
     "duration": 8.782742,
     "end_time": "2023-05-06T17:40:06.813264",
     "exception": false,
     "start_time": "2023-05-06T17:39:58.030522",
     "status": "completed"
    },
    "tags": []
   },
   "outputs": [],
   "source": [
    "x_train=ss.fit_transform(x_train)"
   ]
  },
  {
   "cell_type": "code",
   "execution_count": 24,
   "id": "876860ce",
   "metadata": {
    "execution": {
     "iopub.execute_input": "2023-05-06T17:40:06.831550Z",
     "iopub.status.busy": "2023-05-06T17:40:06.831242Z",
     "iopub.status.idle": "2023-05-06T17:40:07.970434Z",
     "shell.execute_reply": "2023-05-06T17:40:07.969392Z"
    },
    "papermill": {
     "duration": 1.150987,
     "end_time": "2023-05-06T17:40:07.972678",
     "exception": false,
     "start_time": "2023-05-06T17:40:06.821691",
     "status": "completed"
    },
    "tags": []
   },
   "outputs": [],
   "source": [
    "x_test=ss.transform(x_test)"
   ]
  },
  {
   "cell_type": "code",
   "execution_count": 25,
   "id": "db16d022",
   "metadata": {
    "execution": {
     "iopub.execute_input": "2023-05-06T17:40:07.991840Z",
     "iopub.status.busy": "2023-05-06T17:40:07.990429Z",
     "iopub.status.idle": "2023-05-06T17:40:08.136235Z",
     "shell.execute_reply": "2023-05-06T17:40:08.135182Z"
    },
    "papermill": {
     "duration": 0.156985,
     "end_time": "2023-05-06T17:40:08.138195",
     "exception": false,
     "start_time": "2023-05-06T17:40:07.981210",
     "status": "completed"
    },
    "tags": []
   },
   "outputs": [],
   "source": [
    "y_train=y_train.astype('int')"
   ]
  },
  {
   "cell_type": "code",
   "execution_count": 26,
   "id": "60dbe186",
   "metadata": {
    "execution": {
     "iopub.execute_input": "2023-05-06T17:40:08.157592Z",
     "iopub.status.busy": "2023-05-06T17:40:08.156140Z",
     "iopub.status.idle": "2023-05-06T17:40:08.194364Z",
     "shell.execute_reply": "2023-05-06T17:40:08.193555Z"
    },
    "papermill": {
     "duration": 0.049154,
     "end_time": "2023-05-06T17:40:08.196206",
     "exception": false,
     "start_time": "2023-05-06T17:40:08.147052",
     "status": "completed"
    },
    "tags": []
   },
   "outputs": [],
   "source": [
    "y_test=y_test.astype('int')"
   ]
  },
  {
   "cell_type": "markdown",
   "id": "ca0ebf6d",
   "metadata": {
    "papermill": {
     "duration": 0.008122,
     "end_time": "2023-05-06T17:40:08.212901",
     "exception": false,
     "start_time": "2023-05-06T17:40:08.204779",
     "status": "completed"
    },
    "tags": []
   },
   "source": [
    "# Logistic Regression"
   ]
  },
  {
   "cell_type": "code",
   "execution_count": 27,
   "id": "31ae8103",
   "metadata": {
    "execution": {
     "iopub.execute_input": "2023-05-06T17:40:08.231316Z",
     "iopub.status.busy": "2023-05-06T17:40:08.230416Z",
     "iopub.status.idle": "2023-05-06T17:40:58.176605Z",
     "shell.execute_reply": "2023-05-06T17:40:58.175663Z"
    },
    "papermill": {
     "duration": 49.957762,
     "end_time": "2023-05-06T17:40:58.178836",
     "exception": false,
     "start_time": "2023-05-06T17:40:08.221074",
     "status": "completed"
    },
    "tags": []
   },
   "outputs": [
    {
     "name": "stderr",
     "output_type": "stream",
     "text": [
      "/opt/conda/lib/python3.10/site-packages/sklearn/linear_model/_logistic.py:458: ConvergenceWarning: lbfgs failed to converge (status=1):\n",
      "STOP: TOTAL NO. of ITERATIONS REACHED LIMIT.\n",
      "\n",
      "Increase the number of iterations (max_iter) or scale the data as shown in:\n",
      "    https://scikit-learn.org/stable/modules/preprocessing.html\n",
      "Please also refer to the documentation for alternative solver options:\n",
      "    https://scikit-learn.org/stable/modules/linear_model.html#logistic-regression\n",
      "  n_iter_i = _check_optimize_result(\n"
     ]
    },
    {
     "name": "stdout",
     "output_type": "stream",
     "text": [
      "              precision    recall  f1-score   support\n",
      "\n",
      "           0       1.00      1.00      1.00   1271776\n",
      "           1       0.43      0.92      0.58       748\n",
      "\n",
      "    accuracy                           1.00   1272524\n",
      "   macro avg       0.71      0.96      0.79   1272524\n",
      "weighted avg       1.00      1.00      1.00   1272524\n",
      "\n",
      "1.0\n"
     ]
    }
   ],
   "source": [
    "lr=LogisticRegression()\n",
    "lr.fit(x_train,y_train)\n",
    "y_pred=lr.predict(x_test)\n",
    "print(classification_report(y_pred,y_test))\n",
    "print(accuracy_score(y_pred,y_pred))"
   ]
  },
  {
   "cell_type": "markdown",
   "id": "1434262f",
   "metadata": {
    "papermill": {
     "duration": 0.008037,
     "end_time": "2023-05-06T17:40:58.195280",
     "exception": false,
     "start_time": "2023-05-06T17:40:58.187243",
     "status": "completed"
    },
    "tags": []
   },
   "source": [
    "# Decision Tree Classifier"
   ]
  },
  {
   "cell_type": "code",
   "execution_count": 28,
   "id": "a8ea6187",
   "metadata": {
    "execution": {
     "iopub.execute_input": "2023-05-06T17:40:58.212542Z",
     "iopub.status.busy": "2023-05-06T17:40:58.212254Z",
     "iopub.status.idle": "2023-05-06T17:41:56.204782Z",
     "shell.execute_reply": "2023-05-06T17:41:56.203725Z"
    },
    "papermill": {
     "duration": 58.012564,
     "end_time": "2023-05-06T17:41:56.215710",
     "exception": false,
     "start_time": "2023-05-06T17:40:58.203146",
     "status": "completed"
    },
    "tags": []
   },
   "outputs": [
    {
     "name": "stdout",
     "output_type": "stream",
     "text": [
      "              precision    recall  f1-score   support\n",
      "\n",
      "           0       1.00      1.00      1.00   1270935\n",
      "           1       0.88      0.89      0.88      1589\n",
      "\n",
      "    accuracy                           1.00   1272524\n",
      "   macro avg       0.94      0.95      0.94   1272524\n",
      "weighted avg       1.00      1.00      1.00   1272524\n",
      "\n"
     ]
    }
   ],
   "source": [
    "clf=DecisionTreeClassifier()\n",
    "clf.fit(x_train,y_train)\n",
    "y_pred=clf.predict(x_test)\n",
    "print(classification_report(y_pred,y_test))"
   ]
  },
  {
   "cell_type": "markdown",
   "id": "76f6ce8c",
   "metadata": {
    "papermill": {
     "duration": 0.007817,
     "end_time": "2023-05-06T17:41:56.231589",
     "exception": false,
     "start_time": "2023-05-06T17:41:56.223772",
     "status": "completed"
    },
    "tags": []
   },
   "source": [
    "# Accuracy score:99.97%"
   ]
  },
  {
   "cell_type": "code",
   "execution_count": 29,
   "id": "b8d20c8e",
   "metadata": {
    "execution": {
     "iopub.execute_input": "2023-05-06T17:41:56.248941Z",
     "iopub.status.busy": "2023-05-06T17:41:56.248660Z",
     "iopub.status.idle": "2023-05-06T17:41:56.391065Z",
     "shell.execute_reply": "2023-05-06T17:41:56.390115Z"
    },
    "papermill": {
     "duration": 0.153666,
     "end_time": "2023-05-06T17:41:56.393347",
     "exception": false,
     "start_time": "2023-05-06T17:41:56.239681",
     "status": "completed"
    },
    "tags": []
   },
   "outputs": [],
   "source": [
    "result=pd.DataFrame({'Models':['Logistic Regression','Decision Tree Classifier'],'Accuracy score':[accuracy_score(y_pred,y_test),accuracy_score(y_pred,y_test)]})"
   ]
  },
  {
   "cell_type": "code",
   "execution_count": 30,
   "id": "aeae7962",
   "metadata": {
    "execution": {
     "iopub.execute_input": "2023-05-06T17:41:56.412596Z",
     "iopub.status.busy": "2023-05-06T17:41:56.411072Z",
     "iopub.status.idle": "2023-05-06T17:41:56.420572Z",
     "shell.execute_reply": "2023-05-06T17:41:56.419562Z"
    },
    "papermill": {
     "duration": 0.02073,
     "end_time": "2023-05-06T17:41:56.422604",
     "exception": false,
     "start_time": "2023-05-06T17:41:56.401874",
     "status": "completed"
    },
    "tags": []
   },
   "outputs": [
    {
     "data": {
      "text/html": [
       "<div>\n",
       "<style scoped>\n",
       "    .dataframe tbody tr th:only-of-type {\n",
       "        vertical-align: middle;\n",
       "    }\n",
       "\n",
       "    .dataframe tbody tr th {\n",
       "        vertical-align: top;\n",
       "    }\n",
       "\n",
       "    .dataframe thead th {\n",
       "        text-align: right;\n",
       "    }\n",
       "</style>\n",
       "<table border=\"1\" class=\"dataframe\">\n",
       "  <thead>\n",
       "    <tr style=\"text-align: right;\">\n",
       "      <th></th>\n",
       "      <th>Models</th>\n",
       "      <th>Accuracy score</th>\n",
       "    </tr>\n",
       "  </thead>\n",
       "  <tbody>\n",
       "    <tr>\n",
       "      <th>0</th>\n",
       "      <td>Logistic Regression</td>\n",
       "      <td>0.999708</td>\n",
       "    </tr>\n",
       "    <tr>\n",
       "      <th>1</th>\n",
       "      <td>Decision Tree Classifier</td>\n",
       "      <td>0.999708</td>\n",
       "    </tr>\n",
       "  </tbody>\n",
       "</table>\n",
       "</div>"
      ],
      "text/plain": [
       "                     Models  Accuracy score\n",
       "0       Logistic Regression        0.999708\n",
       "1  Decision Tree Classifier        0.999708"
      ]
     },
     "execution_count": 30,
     "metadata": {},
     "output_type": "execute_result"
    }
   ],
   "source": [
    "result"
   ]
  },
  {
   "cell_type": "markdown",
   "id": "2513dca6",
   "metadata": {
    "papermill": {
     "duration": 0.007908,
     "end_time": "2023-05-06T17:41:56.439158",
     "exception": false,
     "start_time": "2023-05-06T17:41:56.431250",
     "status": "completed"
    },
    "tags": []
   },
   "source": [
    "# Thank You "
   ]
  }
 ],
 "metadata": {
  "kernelspec": {
   "display_name": "Python 3",
   "language": "python",
   "name": "python3"
  },
  "language_info": {
   "codemirror_mode": {
    "name": "ipython",
    "version": 3
   },
   "file_extension": ".py",
   "mimetype": "text/x-python",
   "name": "python",
   "nbconvert_exporter": "python",
   "pygments_lexer": "ipython3",
   "version": "3.10.10"
  },
  "papermill": {
   "default_parameters": {},
   "duration": 169.692776,
   "end_time": "2023-05-06T17:41:58.170260",
   "environment_variables": {},
   "exception": null,
   "input_path": "__notebook__.ipynb",
   "output_path": "__notebook__.ipynb",
   "parameters": {},
   "start_time": "2023-05-06T17:39:08.477484",
   "version": "2.4.0"
  }
 },
 "nbformat": 4,
 "nbformat_minor": 5
}
